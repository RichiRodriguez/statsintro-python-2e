{
 "cells": [
  {
   "cell_type": "markdown",
   "id": "60039558-960d-4af3-9289-353d6557c70d",
   "metadata": {},
   "source": [
    "# Pickle\n",
    "\n",
    "One important way of storing data is arguably missing from the book *Introduction to Statistics with Python*: \"pickles\"\n",
    "\n",
    "One can use the module `pickle` to save a Python object for later use. Thereby it is convenient to put all the data required into a dictionary:"
   ]
  },
  {
   "cell_type": "code",
   "execution_count": 17,
   "id": "90f4e0c5-112d-4b6c-b022-819cc648ad4d",
   "metadata": {},
   "outputs": [],
   "source": [
    "# Import the required modules\n",
    "import pickle\n",
    "import numpy as np"
   ]
  },
  {
   "cell_type": "code",
   "execution_count": 18,
   "id": "c89106bd-f044-4d98-b0e4-216b039900e3",
   "metadata": {},
   "outputs": [],
   "source": [
    "# Generate a few data\n",
    "t = np.arange(0, 10, 0.1)\n",
    "x = np.sin(t)\n",
    "info = 'This is a sine-wave'\n",
    "\n",
    "data = {'t': t,\n",
    "        'x': x,\n",
    "        'info': info}"
   ]
  },
  {
   "cell_type": "markdown",
   "id": "a78c273a-e184-44c1-b51c-e815f4c16068",
   "metadata": {},
   "source": [
    "## Saving data\n",
    "The by far most convenient way to handle pickeled objects is with the syntax provided by `with`:"
   ]
  },
  {
   "cell_type": "code",
   "execution_count": 19,
   "id": "8f52958d-4de6-4aba-92a9-057111e80c87",
   "metadata": {},
   "outputs": [],
   "source": [
    "# Save them as a pickled file ...\n",
    "data_file = 'data.pickle'\n",
    "\n",
    "with open(data_file, 'wb') as fh_out:\n",
    "    pickle.dump(data, fh_out)"
   ]
  },
  {
   "cell_type": "markdown",
   "id": "87cd5f8b-07c5-4091-a829-20b7ea390580",
   "metadata": {},
   "source": [
    "## Loading data"
   ]
  },
  {
   "cell_type": "code",
   "execution_count": 20,
   "id": "4d1b99c8-9de1-4245-abf1-e169feaed02b",
   "metadata": {},
   "outputs": [],
   "source": [
    "# ...and load them back later on:\n",
    "with open(data_file, 'rb') as fh_in:\n",
    "    loaded_data = pickle.load(fh_in)"
   ]
  },
  {
   "cell_type": "code",
   "execution_count": 21,
   "id": "eef1381a-865f-490a-af12-93ecc51fd862",
   "metadata": {},
   "outputs": [
    {
     "data": {
      "text/plain": [
       "dict_keys(['t', 'x', 'info'])"
      ]
     },
     "execution_count": 21,
     "metadata": {},
     "output_type": "execute_result"
    }
   ],
   "source": [
    "loaded_data.keys()"
   ]
  }
 ],
 "metadata": {
  "kernelspec": {
   "display_name": "Python 3 (ipykernel)",
   "language": "python",
   "name": "python3"
  },
  "language_info": {
   "codemirror_mode": {
    "name": "ipython",
    "version": 3
   },
   "file_extension": ".py",
   "mimetype": "text/x-python",
   "name": "python",
   "nbconvert_exporter": "python",
   "pygments_lexer": "ipython3",
   "version": "3.9.10"
  }
 },
 "nbformat": 4,
 "nbformat_minor": 5
}
