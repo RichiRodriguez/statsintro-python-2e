{
 "cells": [
  {
   "cell_type": "markdown",
   "metadata": {},
   "source": [
    "# Power Analysis\n",
    "\n",
    "Author:  Thomas Haslwanter, July-2021\n",
    "\n",
    "Retrospective analyses of published experiments have indicated that a stunning number of them have a very low power, somewhere between 15% and 30%. To investigate the practical consequences of such studies, this notebook replicates a test with a test-design with a power of about 25%.\n",
    "\n",
    "The (expected, but nevertheless almost unbelievable) result: 75% of these investigations would have missed an existing effect; and those that found an effect reported an effect-size that is significantly larger than the actual effect size (\"winner's curse\").\n",
    "\n",
    "## Set up the experiment"
   ]
  },
  {
   "cell_type": "code",
   "execution_count": 1,
   "metadata": {},
   "outputs": [],
   "source": [
    "import numpy as np\n",
    "import matplotlib.pyplot as plt\n",
    "from scipy import stats\n",
    "from statsmodels.stats import power"
   ]
  },
  {
   "cell_type": "markdown",
   "metadata": {},
   "source": [
    "We simulate two (independent) groups:\n",
    "\n",
    "    1) a *pre*-group, with an average IQ of 100\n",
    "    2) a *post*-group, which has received a magic potion, and now has an average IQ of 105"
   ]
  },
  {
   "cell_type": "code",
   "execution_count": 2,
   "metadata": {},
   "outputs": [],
   "source": [
    "# Data distributions\n",
    "pre = 100\n",
    "effect_size = 1/3 # The effect-size is 1/3 of the standard deviation\n",
    "std = 15    \n",
    "n_group = 30"
   ]
  },
  {
   "cell_type": "code",
   "execution_count": 3,
   "metadata": {},
   "outputs": [],
   "source": [
    "true_effect = effect_size * std\n",
    "post = pre + true_effect\n",
    "nd_pre =  stats.norm(pre, std)\n",
    "nd_post = stats.norm(post, std)"
   ]
  },
  {
   "cell_type": "markdown",
   "metadata": {},
   "source": [
    "## Plot the theoretical curves\n",
    "Show the distribution of the data, as well as the distribution of the expected mean values. After all, we want to see if the *mean*-value has changed."
   ]
  },
  {
   "cell_type": "code",
   "execution_count": 6,
   "metadata": {},
   "outputs": [],
   "source": [
    "# Distributions of means\n",
    "dofs = n_group-1\n",
    "sem = std/np.sqrt(n_group)\n",
    "td_pre = stats.t(dofs, pre, sem)\n",
    "td_post = stats.t(dofs, post, sem)"
   ]
  },
  {
   "cell_type": "code",
   "execution_count": 7,
   "metadata": {},
   "outputs": [
    {
     "data": {
      "text/plain": [
       "Text(0.5, 0, 'x')"
      ]
     },
     "execution_count": 7,
     "metadata": {},
     "output_type": "execute_result"
    },
    {
     "data": {
      "image/png": "[encoded data removed]",
      "text/plain": [
       "<Figure size 432x288 with 2 Axes>"
      ]
     },
     "metadata": {
      "needs_background": "light"
     },
     "output_type": "display_data"
    }
   ],
   "source": [
    "x = np.linspace(60, 150, 200)\n",
    "\n",
    "fig, axs = plt.subplots(2, 1, sharex=True)\n",
    "axs[0].plot(x, nd_pre.pdf(x), label='pre')\n",
    "axs[0].plot(x, nd_post.pdf(x), label='post')\n",
    "axs[0].set_title('Values')\n",
    "axs[0].set_ylabel('PDF(x)')\n",
    "axs[0].legend()\n",
    "\n",
    "axs[1].plot(x, td_pre.pdf(x))\n",
    "axs[1].plot(x, td_post.pdf(x))\n",
    "axs[1].set_title('Means')\n",
    "axs[1].set_ylabel('PDF(mean)')\n",
    "axs[1].set_xlabel('x')"
   ]
  },
  {
   "cell_type": "code",
   "execution_count": 8,
   "metadata": {},
   "outputs": [
    {
     "name": "stdout",
     "output_type": "stream",
     "text": [
      "The power of the test is 0.25\n"
     ]
    }
   ],
   "source": [
    "# Calculate the power of the test\n",
    "test_power = power.tt_ind_solve_power(nobs1=n_group, alpha = 0.05, effect_size = effect_size)\n",
    "print(f'The power of the test is {test_power:4.2f}')"
   ]
  },
  {
   "cell_type": "markdown",
   "metadata": {},
   "source": [
    "## Simulate 100 test-runs\n",
    "Now if we would perform 100 studies with a power of 25%, what would we find?"
   ]
  },
  {
   "cell_type": "code",
   "execution_count": 9,
   "metadata": {},
   "outputs": [],
   "source": [
    "n_tests = 100\n",
    "diffs = []\n",
    "ps = []\n",
    "alpha = 0.05  # Commonly used threshold for significance\n",
    "\n",
    "for test in range(n_tests):\n",
    "    data_pre = nd_pre.rvs(n_group)\n",
    "    data_post = nd_post.rvs(n_group)\n",
    "    t, p = stats.ttest_ind(data_pre, data_post)\n",
    "    \n",
    "    diffs.append(np.mean(data_post) - np.mean(data_pre))\n",
    "    ps.append(p)"
   ]
  },
  {
   "cell_type": "code",
   "execution_count": 10,
   "metadata": {},
   "outputs": [
    {
     "name": "stdout",
     "output_type": "stream",
     "text": [
      "Percentage of significant tests: 22.0%\n",
      "Mean significant difference= 9.94, compared to a true effect of 5.0\n"
     ]
    }
   ],
   "source": [
    "ps = np.array(ps)\n",
    "diffs = np.array(diffs)\n",
    "\n",
    "significant = ps < alpha\n",
    "n_significant = np.sum(significant)\n",
    "print(f'Percentage of significant tests: {n_significant/n_tests * 100}%')\n",
    "\n",
    "found_diff = np.mean(diffs[significant])\n",
    "print(f'Mean significant difference= {found_diff:4.2f}, compared to a true effect of {true_effect}')"
   ]
  },
  {
   "cell_type": "code",
   "execution_count": null,
   "metadata": {},
   "outputs": [],
   "source": []
  }
 ],
 "metadata": {
  "kernelspec": {
   "display_name": "Python 3 (ipykernel)",
   "language": "python",
   "name": "python3"
  },
  "language_info": {
   "codemirror_mode": {
    "name": "ipython",
    "version": 3
   },
   "file_extension": ".py",
   "mimetype": "text/x-python",
   "name": "python",
   "nbconvert_exporter": "python",
   "pygments_lexer": "ipython3",
   "version": "3.9.10"
  }
 },
 "nbformat": 4,
 "nbformat_minor": 4
}
